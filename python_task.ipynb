{
 "cells": [
  {
   "cell_type": "markdown",
   "id": "6a7985ce",
   "metadata": {},
   "source": [
    "## Assignment"
   ]
  },
  {
   "cell_type": "markdown",
   "id": "3cb0535f",
   "metadata": {},
   "source": [
    "### 1. Write a Python program to add an item to a tuple. "
   ]
  },
  {
   "cell_type": "code",
   "execution_count": 2,
   "id": "bfa36be0",
   "metadata": {},
   "outputs": [
    {
     "name": "stdout",
     "output_type": "stream",
     "text": [
      "('m', 'i', 'n', 'a')\n"
     ]
    }
   ],
   "source": [
    "add_item = input()\n",
    "tuple_1 = tuple(add_item)\n",
    "print(tuple_1)"
   ]
  },
  {
   "cell_type": "markdown",
   "id": "3d3121a7",
   "metadata": {},
   "source": [
    "#### 2. Write a Python program to sum all the items in a list. "
   ]
  },
  {
   "cell_type": "code",
   "execution_count": 8,
   "id": "659658a4",
   "metadata": {},
   "outputs": [
    {
     "name": "stdout",
     "output_type": "stream",
     "text": [
      "The list summation equal to:21 \n"
     ]
    }
   ],
   "source": [
    "my_list = [1,2,3,4,5,6]\n",
    "sum = 0\n",
    "for i in my_list:\n",
    "    sum += i\n",
    "print(\"The list summation equal to:{} \".format(sum))"
   ]
  },
  {
   "cell_type": "markdown",
   "id": "f048b154",
   "metadata": {},
   "source": [
    "#### 3. Write a Python program to multiply all the items in a list. "
   ]
  },
  {
   "cell_type": "code",
   "execution_count": 10,
   "id": "3cad6f11",
   "metadata": {},
   "outputs": [
    {
     "name": "stdout",
     "output_type": "stream",
     "text": [
      "The list multiplication equal to:720 \n"
     ]
    }
   ],
   "source": [
    "my_list = [1,2,3,4,5,6]\n",
    "mul = 1\n",
    "for i in my_list:\n",
    "    mul *= i\n",
    "print(\"The list multiplication equal to:{} \".format(mul))"
   ]
  },
  {
   "cell_type": "markdown",
   "id": "64168c02",
   "metadata": {},
   "source": [
    "#### 4. Write a Python program to get the smallest number from a list. "
   ]
  },
  {
   "cell_type": "code",
   "execution_count": 20,
   "id": "8f06408a",
   "metadata": {},
   "outputs": [
    {
     "name": "stdout",
     "output_type": "stream",
     "text": [
      "2\n"
     ]
    }
   ],
   "source": [
    "my_list1 = [10,15,2,9,4,25]\n",
    "my_list1.sort()\n",
    "print(my_list1[0])"
   ]
  },
  {
   "cell_type": "markdown",
   "id": "ee11ed8f",
   "metadata": {},
   "source": [
    "#### 5. Write a Python program to get the largest number from a list. "
   ]
  },
  {
   "cell_type": "code",
   "execution_count": 26,
   "id": "56ab976f",
   "metadata": {},
   "outputs": [
    {
     "name": "stdout",
     "output_type": "stream",
     "text": [
      "25\n"
     ]
    }
   ],
   "source": [
    "my_list1 = [10,15,2,9,4,25]\n",
    "my_list1.sort()\n",
    "my_list1.reverse()\n",
    "print(my_list1[0])"
   ]
  },
  {
   "cell_type": "markdown",
   "id": "639e360f",
   "metadata": {},
   "source": [
    "#### 6. Write a Python program to count the number of strings from a given list of strings. \n"
   ]
  },
  {
   "cell_type": "code",
   "execution_count": 37,
   "id": "6624ae15",
   "metadata": {},
   "outputs": [
    {
     "name": "stdout",
     "output_type": "stream",
     "text": [
      "4\n"
     ]
    }
   ],
   "source": [
    "my_list2 = [\"Machine\",\"Learning\",\"Amit\",\"Egypt\"]\n",
    "y = 0\n",
    "for i in my_list2:\n",
    "    y = y+1\n",
    "\n",
    "print(y)"
   ]
  },
  {
   "cell_type": "markdown",
   "id": "b4e44584",
   "metadata": {},
   "source": [
    "#### 7. Write a Python program to clone or copy a list "
   ]
  },
  {
   "cell_type": "code",
   "execution_count": 38,
   "id": "e53eb71d",
   "metadata": {},
   "outputs": [
    {
     "name": "stdout",
     "output_type": "stream",
     "text": [
      "Machine\n",
      "Learning\n",
      "Amit\n",
      "Egypt\n"
     ]
    }
   ],
   "source": [
    "my_list2 = [\"Machine\",\"Learning\",\"Amit\",\"Egypt\"]\n",
    "\n",
    "for i in my_list2:\n",
    "    print(i)"
   ]
  },
  {
   "cell_type": "markdown",
   "id": "bfb297fc",
   "metadata": {},
   "source": [
    "#### 8. Write a Python program to remove item(s) from a given set. "
   ]
  },
  {
   "cell_type": "code",
   "execution_count": 41,
   "id": "08c97960",
   "metadata": {},
   "outputs": [
    {
     "data": {
      "text/plain": [
       "[1, 2, 4, 5]"
      ]
     },
     "execution_count": 41,
     "metadata": {},
     "output_type": "execute_result"
    }
   ],
   "source": [
    "my_set = {1,2,3,4,5}\n",
    "item = list(my_set)\n",
    "item.remove(3)\n",
    "item"
   ]
  },
  {
   "cell_type": "markdown",
   "id": "d299fc81",
   "metadata": {},
   "source": [
    "#### 9. Write a Python program to check if a set is a subset of another set. "
   ]
  },
  {
   "cell_type": "code",
   "execution_count": 44,
   "id": "60257fd5",
   "metadata": {},
   "outputs": [
    {
     "name": "stdout",
     "output_type": "stream",
     "text": [
      "set1 is a subset of set2\n"
     ]
    }
   ],
   "source": [
    "set_1 = {1,2,3}\n",
    "set_2 = {1,2,3,4,5}\n",
    "if set_1 <= set_2:\n",
    "    print(\"set1 is a subset of set2\")\n",
    "else: \n",
    "    print(\"set1 is not a subset of set2\")"
   ]
  },
  {
   "cell_type": "markdown",
   "id": "1ebce99a",
   "metadata": {},
   "source": [
    "#### 10. Write a Python program to remove all elements from a given set. "
   ]
  },
  {
   "cell_type": "code",
   "execution_count": 46,
   "id": "eefa514b",
   "metadata": {},
   "outputs": [
    {
     "name": "stdout",
     "output_type": "stream",
     "text": [
      "set()\n"
     ]
    }
   ],
   "source": [
    "set_2 = {1,2,3,4,5}\n",
    "set_2.clear()\n",
    "print(set_2)"
   ]
  },
  {
   "cell_type": "markdown",
   "id": "e91d4e00",
   "metadata": {},
   "source": [
    "#### 11. Write a Python program to find the maximum and minimum values in a set. "
   ]
  },
  {
   "cell_type": "code",
   "execution_count": 66,
   "id": "a7dc2426",
   "metadata": {},
   "outputs": [
    {
     "name": "stdout",
     "output_type": "stream",
     "text": [
      "Minimum number of the Set is equal to: 2\n",
      "Maximum number of the set is eqal to: 51\n"
     ]
    }
   ],
   "source": [
    "set_2 = {10,2,3,49,51}\n",
    "# convert to list\n",
    "list_2 = list(set_2)\n",
    "list_2.sort()\n",
    "print(f\"Minimum number of the Set is equal to: {list_2[0]}\")\n",
    "list_2.reverse()\n",
    "print(f\"Maximum number of the set is eqal to: {list_2[0]}\")\n",
    "\n",
    "      \n"
   ]
  },
  {
   "cell_type": "markdown",
   "id": "68f7d19a",
   "metadata": {},
   "source": [
    "#### 12. Write a Python program to find the index of an item in a tuple. "
   ]
  },
  {
   "cell_type": "code",
   "execution_count": 138,
   "id": "c9d9e205",
   "metadata": {},
   "outputs": [
    {
     "name": "stdout",
     "output_type": "stream",
     "text": [
      "Item 'AI' is at index 3.\n"
     ]
    }
   ],
   "source": [
    "my_tuple = (\"Machine\",\"Learning\",\"Amit\",\"AI\", \"Egypt\")\n",
    "item = \"AI\"\n",
    "\n",
    "if item in my_tuple:\n",
    "    index = my_tuple.index(item)\n",
    "    print(f\"Item '{item}' is at index {index}.\")\n",
    "    \n",
    "else:\n",
    "    print(f\"item {item} is not in the tuple list\")\n"
   ]
  },
  {
   "cell_type": "markdown",
   "id": "83db3b0a",
   "metadata": {},
   "source": [
    "#### 13. Write a Python program to convert a tuple to a dictionary. "
   ]
  },
  {
   "cell_type": "code",
   "execution_count": 143,
   "id": "344fa7f6",
   "metadata": {},
   "outputs": [
    {
     "data": {
      "text/plain": [
       "{'key_1': 'Machine',\n",
       " 'key_2': 'Learning',\n",
       " 'key_3': 'Amit',\n",
       " 'key_4': 'AI',\n",
       " 'key_5': 'Egypt'}"
      ]
     },
     "execution_count": 143,
     "metadata": {},
     "output_type": "execute_result"
    }
   ],
   "source": [
    "my_tuple = ((\"key_1\",\"Machine\"),(\"key_2\",\"Learning\"),(\"key_3\",\"Amit\"),(\"key_4\",\"AI\"), (\"key_5\",\"Egypt\"))\n",
    "my_dic = dict(my_tuple)\n",
    "my_dic"
   ]
  },
  {
   "cell_type": "markdown",
   "id": "f7ff0900",
   "metadata": {},
   "source": [
    "#### 14. Write a Python program to unzip a list of tuples into individual lists.  "
   ]
  },
  {
   "cell_type": "code",
   "execution_count": 163,
   "id": "ca954b30",
   "metadata": {},
   "outputs": [
    {
     "name": "stdout",
     "output_type": "stream",
     "text": [
      "['key_1', 'key_2', 'key_3', 'key_4', 'key_5']\n",
      "['M', 'a', 'c', 'h', 'i', 'n', 'e']\n",
      "['L', 'e', 'a', 'r', 'n', 'i', 'n', 'g']\n",
      "['A', 'm', 'i', 't']\n",
      "['A', 'I']\n",
      "['E', 'g', 'y', 'p', 't']\n"
     ]
    }
   ],
   "source": [
    "my_tuple = [(\"key_1\",\"Machine\"),(\"key_2\",\"Learning\"),(\"key_3\",\"Amit\"),(\"key_4\",\"AI\"), (\"key_5\",\"Egypt\")]\n",
    "my_dic = dict(my_tuple)\n",
    "my_list = list(my_dic)\n",
    "print(my_list)\n",
    "my_dic.items()\n",
    "for x,y in my_dic.items():\n",
    "    list_2 = list(y)\n",
    "    print(list_2)\n",
    "\n",
    "\n"
   ]
  },
  {
   "cell_type": "markdown",
   "id": "94dbb939",
   "metadata": {},
   "source": [
    "#### 15. Write a Python program to reverse a tuple. "
   ]
  },
  {
   "cell_type": "code",
   "execution_count": 165,
   "id": "25bfcc9f",
   "metadata": {},
   "outputs": [
    {
     "name": "stdout",
     "output_type": "stream",
     "text": [
      "('Egypt', 'AI', 'Amit', 'Learning', 'Machine')\n"
     ]
    }
   ],
   "source": [
    "my_tuple = (\"Machine\",\"Learning\",\"Amit\",\"AI\", \"Egypt\")\n",
    "rev_tuple = my_tuple[::-1]\n",
    "print(rev_tuple)"
   ]
  },
  {
   "cell_type": "markdown",
   "id": "57810653",
   "metadata": {},
   "source": [
    "#### 16. Write a Python program to convert a list of tuples into a dictionary.  "
   ]
  },
  {
   "cell_type": "code",
   "execution_count": 167,
   "id": "b52e029f",
   "metadata": {},
   "outputs": [
    {
     "data": {
      "text/plain": [
       "{'key_1': 'Machine',\n",
       " 'key_2': 'Learning',\n",
       " 'key_3': 'Amit',\n",
       " 'key_4': 'AI',\n",
       " 'key_5': 'Egypt'}"
      ]
     },
     "execution_count": 167,
     "metadata": {},
     "output_type": "execute_result"
    }
   ],
   "source": [
    "my_list = [(\"key_1\",\"Machine\"),(\"key_2\",\"Learning\"),(\"key_3\",\"Amit\"),(\"key_4\",\"AI\"), (\"key_5\",\"Egypt\")]\n",
    "my_dic = dict(my_list)\n",
    "my_dic"
   ]
  },
  {
   "cell_type": "markdown",
   "id": "5690d6e3",
   "metadata": {},
   "source": [
    "#### 17. Write a Python program to replace the last value of tuples in a list. "
   ]
  },
  {
   "cell_type": "code",
   "execution_count": 185,
   "id": "c60ce145",
   "metadata": {},
   "outputs": [
    {
     "name": "stdout",
     "output_type": "stream",
     "text": [
      "[(10, 20), 100]\n",
      "[(40, 50), 100]\n",
      "[(70, 80), 100]\n"
     ]
    }
   ],
   "source": [
    "Sample_list = [(10, 20, 40), (40, 50, 60), (70, 80, 90)] \n",
    "x = 100\n",
    "for i in Sample_list:\n",
    "    updated_list = [i[:-1],(x)]\n",
    "    print(updated_list)\n",
    "    \n",
    "                    \n",
    "    \n"
   ]
  },
  {
   "cell_type": "markdown",
   "id": "dfb6b12b",
   "metadata": {},
   "source": [
    "#### 18.  Write a Python program to sort a tuple by its float element. "
   ]
  },
  {
   "cell_type": "code",
   "execution_count": null,
   "id": "1595aefd",
   "metadata": {},
   "outputs": [
    {
     "data": {
      "text/plain": [
       "[('item1', 10.5), ('item2', 5.75), ('item3', 7.2)]"
      ]
     },
     "execution_count": 189,
     "metadata": {},
     "output_type": "execute_result"
    }
   ],
   "source": [
    "data = [('item1', 10.5), ('item2', 5.75), ('item3', 7.2)]\n",
    "\n"
   ]
  },
  {
   "cell_type": "code",
   "execution_count": null,
   "id": "39dd0b83",
   "metadata": {},
   "outputs": [],
   "source": []
  }
 ],
 "metadata": {
  "kernelspec": {
   "display_name": "Python 3",
   "language": "python",
   "name": "python3"
  },
  "language_info": {
   "codemirror_mode": {
    "name": "ipython",
    "version": 3
   },
   "file_extension": ".py",
   "mimetype": "text/x-python",
   "name": "python",
   "nbconvert_exporter": "python",
   "pygments_lexer": "ipython3",
   "version": "3.13.3"
  }
 },
 "nbformat": 4,
 "nbformat_minor": 5
}
