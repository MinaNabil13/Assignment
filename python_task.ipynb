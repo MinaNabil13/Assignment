{
 "cells": [
  {
   "cell_type": "markdown",
   "id": "6a7985ce",
   "metadata": {},
   "source": [
    "## Assignment"
   ]
  },
  {
   "cell_type": "markdown",
   "id": "3cb0535f",
   "metadata": {},
   "source": [
    "### 1. Write a Python program to add an item to a tuple. "
   ]
  },
  {
   "cell_type": "code",
   "execution_count": 2,
   "id": "bfa36be0",
   "metadata": {},
   "outputs": [
    {
     "name": "stdout",
     "output_type": "stream",
     "text": [
      "('m', 'i', 'n', 'a')\n"
     ]
    }
   ],
   "source": [
    "add_item = input()\n",
    "tuple_1 = tuple(add_item)\n",
    "print(tuple_1)"
   ]
  },
  {
   "cell_type": "markdown",
   "id": "3d3121a7",
   "metadata": {},
   "source": [
    "#### 2. Write a Python program to sum all the items in a list. "
   ]
  },
  {
   "cell_type": "code",
   "execution_count": 8,
   "id": "659658a4",
   "metadata": {},
   "outputs": [
    {
     "name": "stdout",
     "output_type": "stream",
     "text": [
      "The list summation equal to:21 \n"
     ]
    }
   ],
   "source": [
    "my_list = [1,2,3,4,5,6]\n",
    "sum = 0\n",
    "for i in my_list:\n",
    "    sum += i\n",
    "print(\"The list summation equal to:{} \".format(sum))"
   ]
  },
  {
   "cell_type": "markdown",
   "id": "f048b154",
   "metadata": {},
   "source": [
    "#### 3. Write a Python program to multiply all the items in a list. "
   ]
  },
  {
   "cell_type": "code",
   "execution_count": 10,
   "id": "3cad6f11",
   "metadata": {},
   "outputs": [
    {
     "name": "stdout",
     "output_type": "stream",
     "text": [
      "The list multiplication equal to:720 \n"
     ]
    }
   ],
   "source": [
    "my_list = [1,2,3,4,5,6]\n",
    "mul = 1\n",
    "for i in my_list:\n",
    "    mul *= i\n",
    "print(\"The list multiplication equal to:{} \".format(mul))"
   ]
  },
  {
   "cell_type": "markdown",
   "id": "64168c02",
   "metadata": {},
   "source": [
    "#### 4. Write a Python program to get the smallest number from a list. "
   ]
  },
  {
   "cell_type": "code",
   "execution_count": 20,
   "id": "8f06408a",
   "metadata": {},
   "outputs": [
    {
     "name": "stdout",
     "output_type": "stream",
     "text": [
      "2\n"
     ]
    }
   ],
   "source": [
    "my_list1 = [10,15,2,9,4,25]\n",
    "my_list1.sort()\n",
    "print(my_list1[0])"
   ]
  },
  {
   "cell_type": "markdown",
   "id": "ee11ed8f",
   "metadata": {},
   "source": [
    "#### 5. Write a Python program to get the largest number from a list. "
   ]
  },
  {
   "cell_type": "code",
   "execution_count": 26,
   "id": "56ab976f",
   "metadata": {},
   "outputs": [
    {
     "name": "stdout",
     "output_type": "stream",
     "text": [
      "25\n"
     ]
    }
   ],
   "source": [
    "my_list1 = [10,15,2,9,4,25]\n",
    "my_list1.sort()\n",
    "my_list1.reverse()\n",
    "print(my_list1[0])"
   ]
  },
  {
   "cell_type": "markdown",
   "id": "639e360f",
   "metadata": {},
   "source": [
    "#### 6. Write a Python program to count the number of strings from a given list of strings. \n"
   ]
  },
  {
   "cell_type": "code",
   "execution_count": 37,
   "id": "6624ae15",
   "metadata": {},
   "outputs": [
    {
     "name": "stdout",
     "output_type": "stream",
     "text": [
      "4\n"
     ]
    }
   ],
   "source": [
    "my_list2 = [\"Machine\",\"Learning\",\"Amit\",\"Egypt\"]\n",
    "y = 0\n",
    "for i in my_list2:\n",
    "    y = y+1\n",
    "\n",
    "print(y)"
   ]
  },
  {
   "cell_type": "markdown",
   "id": "b4e44584",
   "metadata": {},
   "source": [
    "#### 7. Write a Python program to clone or copy a list "
   ]
  },
  {
   "cell_type": "code",
   "execution_count": 38,
   "id": "e53eb71d",
   "metadata": {},
   "outputs": [
    {
     "name": "stdout",
     "output_type": "stream",
     "text": [
      "Machine\n",
      "Learning\n",
      "Amit\n",
      "Egypt\n"
     ]
    }
   ],
   "source": [
    "my_list2 = [\"Machine\",\"Learning\",\"Amit\",\"Egypt\"]\n",
    "\n",
    "for i in my_list2:\n",
    "    print(i)"
   ]
  },
  {
   "cell_type": "markdown",
   "id": "bfb297fc",
   "metadata": {},
   "source": [
    "#### 8. Write a Python program to remove item(s) from a given set. "
   ]
  },
  {
   "cell_type": "code",
   "execution_count": 41,
   "id": "08c97960",
   "metadata": {},
   "outputs": [
    {
     "data": {
      "text/plain": [
       "[1, 2, 4, 5]"
      ]
     },
     "execution_count": 41,
     "metadata": {},
     "output_type": "execute_result"
    }
   ],
   "source": [
    "my_set = {1,2,3,4,5}\n",
    "item = list(my_set)\n",
    "item.remove(3)\n",
    "item"
   ]
  },
  {
   "cell_type": "markdown",
   "id": "d299fc81",
   "metadata": {},
   "source": [
    "#### 9. Write a Python program to check if a set is a subset of another set. "
   ]
  },
  {
   "cell_type": "code",
   "execution_count": 44,
   "id": "60257fd5",
   "metadata": {},
   "outputs": [
    {
     "name": "stdout",
     "output_type": "stream",
     "text": [
      "set1 is a subset of set2\n"
     ]
    }
   ],
   "source": [
    "set_1 = {1,2,3}\n",
    "set_2 = {1,2,3,4,5}\n",
    "if set_1 <= set_2:\n",
    "    print(\"set1 is a subset of set2\")\n",
    "else: \n",
    "    print(\"set1 is not a subset of set2\")"
   ]
  },
  {
   "cell_type": "markdown",
   "id": "1ebce99a",
   "metadata": {},
   "source": [
    "#### 10. Write a Python program to remove all elements from a given set. "
   ]
  },
  {
   "cell_type": "code",
   "execution_count": 46,
   "id": "eefa514b",
   "metadata": {},
   "outputs": [
    {
     "name": "stdout",
     "output_type": "stream",
     "text": [
      "set()\n"
     ]
    }
   ],
   "source": [
    "set_2 = {1,2,3,4,5}\n",
    "set_2.clear()\n",
    "print(set_2)"
   ]
  },
  {
   "cell_type": "code",
   "execution_count": null,
   "id": "a7dc2426",
   "metadata": {},
   "outputs": [],
   "source": []
  }
 ],
 "metadata": {
  "kernelspec": {
   "display_name": "Python 3",
   "language": "python",
   "name": "python3"
  },
  "language_info": {
   "codemirror_mode": {
    "name": "ipython",
    "version": 3
   },
   "file_extension": ".py",
   "mimetype": "text/x-python",
   "name": "python",
   "nbconvert_exporter": "python",
   "pygments_lexer": "ipython3",
   "version": "3.13.3"
  }
 },
 "nbformat": 4,
 "nbformat_minor": 5
}
